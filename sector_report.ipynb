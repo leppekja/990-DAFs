{
 "metadata": {
  "language_info": {
   "codemirror_mode": {
    "name": "ipython",
    "version": 3
   },
   "file_extension": ".py",
   "mimetype": "text/x-python",
   "name": "python",
   "nbconvert_exporter": "python",
   "pygments_lexer": "ipython3",
   "version": "3.8.3-final"
  },
  "orig_nbformat": 2,
  "kernelspec": {
   "name": "Python 3.8.3 64-bit ('webapp': conda)",
   "display_name": "Python 3.8.3 64-bit ('webapp': conda)",
   "metadata": {
    "interpreter": {
     "hash": "a4d94800c814fd437af1cd1a431125be425523290c9ac50cdaefbaf061fdc064"
    }
   }
  }
 },
 "nbformat": 4,
 "nbformat_minor": 2,
 "cells": [
  {
   "cell_type": "code",
   "execution_count": 1,
   "metadata": {},
   "outputs": [],
   "source": [
    "import pandas as pd"
   ]
  },
  {
   "cell_type": "code",
   "execution_count": 26,
   "metadata": {},
   "outputs": [],
   "source": [
    "sponsors = pd.read_csv('Sponsors.csv')\n",
    "grantees = pd.read_csv('Grantees.csv')\n",
    "# donations = pd.read_csv('Donations.csv')\n",
    "# worth = pd.read_csv('Worth.csv')"
   ]
  },
  {
   "cell_type": "code",
   "execution_count": 27,
   "metadata": {},
   "outputs": [
    {
     "output_type": "execute_result",
     "data": {
      "text/plain": "(365315, 22)"
     },
     "metadata": {},
     "execution_count": 27
    }
   ],
   "source": [
    "grantees.shape"
   ]
  },
  {
   "cell_type": "code",
   "execution_count": 30,
   "metadata": {
    "tags": []
   },
   "outputs": [
    {
     "output_type": "stream",
     "name": "stdout",
     "text": "12996487651\n"
    }
   ],
   "source": [
    "print(donations.loc[donations[\"tax_year\"] == 2017].cash_grant_amt.sum())"
   ]
  },
  {
   "cell_type": "code",
   "execution_count": 48,
   "metadata": {
    "tags": []
   },
   "outputs": [
    {
     "output_type": "stream",
     "name": "stdout",
     "text": "Index(['EIN', 'NAME', 'TAXYEAR', 'TAXYRSTART', 'TAXYREND', 'AddressLine1Txt',\n       'CityNm', 'StateAbbreviationCd', 'ZIPCd', 'DonorAdvisedFundsHeldCnt',\n       'DonorAdvisedFundsContriAmt', 'DonorAdvisedFundsGrantsAmt',\n       'DonorAdvisedFundsVlEOYAmt', 'DisclosedOrgLegCtrlInd',\n       'DisclosedForCharitablePrpsInd', 'FundsAndOtherAccountsHeldCnt',\n       'FundsAndOtherAccountsContriAmt', 'FundsAndOtherAccountsGrantsAmt',\n       'FundsAndOtherAccountsVlEOYAmt'],\n      dtype='object')\n"
    }
   ],
   "source": [
    "print(t.columns)"
   ]
  },
  {
   "cell_type": "code",
   "execution_count": 38,
   "metadata": {
    "tags": []
   },
   "outputs": [
    {
     "output_type": "execute_result",
     "data": {
      "text/plain": "6528393353"
     },
     "metadata": {},
     "execution_count": 38
    }
   ],
   "source": [
    " worth.loc[worth['tax_year'] == 2016].daf_contri_amt.sum()"
   ]
  },
  {
   "cell_type": "code",
   "execution_count": 45,
   "metadata": {},
   "outputs": [],
   "source": [
    "t = pd.read_csv('Sponsors.csv')\n",
    "a =pd.merge(t, worth, how =\"left\", left_on='EIN', right_on='sponsor_ein_id')\n"
   ]
  },
  {
   "cell_type": "code",
   "execution_count": 49,
   "metadata": {},
   "outputs": [
    {
     "output_type": "execute_result",
     "data": {
      "text/plain": "StateAbbreviationCd\nAK           4\nAL        1083\nAR         471\nAZ        2315\nCA      209327\nCO        6502\nCT       31333\nDC       78555\nDE         271\nFL       20546\nGA       85911\nHI           1\nIA        2020\nID         942\nIL       54237\nIN       14044\nKS        2307\nKY      182209\nLA        2968\nMA      329323\nMD        7982\nME        1485\nMI        7069\nMN        7653\nMO        3154\nMS          64\nMT          37\nNC       10272\nND         207\nNE        3052\nNH        2177\nNJ        3166\nNM         604\nNV        1039\nNY    11163287\nOH       43955\nOR         473\nPA      243421\nPR         116\nRI         380\nSC        2633\nSD        1676\nTN        2948\nTX      109191\nUT           4\nVA        5688\nVT        1104\nWA        3292\nWI      286424\nWV         343\nWY           4\nName: daf_held_cnt, dtype: int64"
     },
     "metadata": {},
     "execution_count": 49
    }
   ],
   "source": [
    "a.groupby(\"StateAbbreviationCd\")['daf_held_cnt'].sum()"
   ]
  },
  {
   "source": [],
   "cell_type": "markdown",
   "metadata": {}
  }
 ]
}